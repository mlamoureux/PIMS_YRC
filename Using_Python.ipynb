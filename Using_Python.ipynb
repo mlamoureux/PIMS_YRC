{
 "cells": [
  {
   "cell_type": "markdown",
   "metadata": {
    "collapsed": true
   },
   "source": [
    "## Using Python in Jupyter\n",
    "\n"
   ]
  },
  {
   "cell_type": "markdown",
   "metadata": {},
   "source": [
    "This is a typical notebook in Jupyter.\n",
    "\n",
    "It is organized as a series of cells. Each cell could contain text, code, or some raw format (Raw NBConvert). \n",
    "\n",
    "You can select which type of code you want to run. For this notebook, we are using Python 3. \n",
    "\n",
    "You could also choose to use Python 2, Julia, or R.  Additional languages can be installed."
   ]
  },
  {
   "cell_type": "markdown",
   "metadata": {},
   "source": [
    "## Running your cells\n",
    "\n",
    "You edit a cell by clicking on it and typing as you wish.\n",
    "\n",
    "To run it (either code, or to format text), you must hit \"Shift-Enter\" on your keyboard."
   ]
  },
  {
   "cell_type": "markdown",
   "metadata": {},
   "source": [
    "## Using Latex and such\n",
    "\n",
    "The text is formatted using something called the **Markdown** language. This language is useful for simple formatting like making lists, adding bold face or italics, and using basic Latex syntax.\n",
    "\n",
    "A list is formed using dashes at the start of each line. Hit \"Shift-return\" to get the formatted version\n",
    "- list item one\n",
    "- list item two\n",
    "- and so on.\n",
    "\n",
    "Italics are formed with single asterix, bold with double. *Like this* and **like this.**\n",
    "\n",
    "Latex works fine, except you don't have access to fancy packages. Use single dollar signs for inline, double for display.\n",
    "\n",
    "This is an integral formula inline $\\sin(x) = \\int_0^x \\cos(t) dt$, while here it is again in display mode:\n",
    "$$\\sin(x) = \\int_0^x \\cos(t) dt.$$\n"
   ]
  },
  {
   "cell_type": "markdown",
   "metadata": {},
   "source": [
    "## Creating code\n",
    "\n",
    "This is as simple as typing some legal Python code into a cell, and hitting \"Shift-Enter\" to run it. Or use the menu commands. \n",
    "\n",
    "Python knows about integers, floating point numbers, even complex numbers like $1+2j$:\n"
   ]
  },
  {
   "cell_type": "code",
   "execution_count": 11,
   "metadata": {
    "collapsed": false
   },
   "outputs": [
    {
     "data": {
      "text/plain": [
       "4"
      ]
     },
     "execution_count": 11,
     "metadata": {},
     "output_type": "execute_result"
    }
   ],
   "source": [
    "2+2"
   ]
  },
  {
   "cell_type": "code",
   "execution_count": 6,
   "metadata": {
    "collapsed": false
   },
   "outputs": [
    {
     "data": {
      "text/plain": [
       "0.6666666666666666"
      ]
     },
     "execution_count": 6,
     "metadata": {},
     "output_type": "execute_result"
    }
   ],
   "source": [
    "2/3"
   ]
  },
  {
   "cell_type": "code",
   "execution_count": 12,
   "metadata": {
    "collapsed": false
   },
   "outputs": [
    {
     "data": {
      "text/plain": [
       "(-4+7j)"
      ]
     },
     "execution_count": 12,
     "metadata": {},
     "output_type": "execute_result"
    }
   ],
   "source": [
    "(1+2j)*(2+3j)"
   ]
  },
  {
   "cell_type": "markdown",
   "metadata": {},
   "source": [
    "Python knows about strings, and can manipulate them."
   ]
  },
  {
   "cell_type": "code",
   "execution_count": 19,
   "metadata": {
    "collapsed": false
   },
   "outputs": [
    {
     "data": {
      "text/plain": [
       "'This is a string'"
      ]
     },
     "execution_count": 19,
     "metadata": {},
     "output_type": "execute_result"
    }
   ],
   "source": [
    "\"This is a string\""
   ]
  },
  {
   "cell_type": "code",
   "execution_count": 20,
   "metadata": {
    "collapsed": false,
    "scrolled": true
   },
   "outputs": [
    {
     "data": {
      "text/plain": [
       "'This is a stringadded to another string'"
      ]
     },
     "execution_count": 20,
     "metadata": {},
     "output_type": "execute_result"
    }
   ],
   "source": [
    "\"This is a string\" + \"added to another string\""
   ]
  },
  {
   "cell_type": "markdown",
   "metadata": {},
   "source": [
    "You can define functions in Python. Notice that it is not fussy about declaring the **type** of the arguments. (Unlike C or Fortran.)"
   ]
  },
  {
   "cell_type": "code",
   "execution_count": 21,
   "metadata": {
    "collapsed": true
   },
   "outputs": [],
   "source": [
    "def doubleIt(x):\n",
    "    return x+x"
   ]
  },
  {
   "cell_type": "code",
   "execution_count": 22,
   "metadata": {
    "collapsed": false
   },
   "outputs": [
    {
     "data": {
      "text/plain": [
       "4"
      ]
     },
     "execution_count": 22,
     "metadata": {},
     "output_type": "execute_result"
    }
   ],
   "source": [
    "doubleIt(2)"
   ]
  },
  {
   "cell_type": "code",
   "execution_count": 23,
   "metadata": {
    "collapsed": false
   },
   "outputs": [
    {
     "data": {
      "text/plain": [
       "4.0"
      ]
     },
     "execution_count": 23,
     "metadata": {},
     "output_type": "execute_result"
    }
   ],
   "source": [
    "doubleIt(2.0)"
   ]
  },
  {
   "cell_type": "code",
   "execution_count": 25,
   "metadata": {
    "collapsed": false
   },
   "outputs": [
    {
     "data": {
      "text/plain": [
       "'Hi there Hi there '"
      ]
     },
     "execution_count": 25,
     "metadata": {},
     "output_type": "execute_result"
    }
   ],
   "source": [
    "doubleIt(\"Hi there \")"
   ]
  },
  {
   "cell_type": "markdown",
   "metadata": {},
   "source": [
    "You can define for loops, and while loops, using a simple syntax. Notice the colon, the indenting, and the fact the loop definition ends with a blank line. That's all part of the syntax."
   ]
  },
  {
   "cell_type": "code",
   "execution_count": 26,
   "metadata": {
    "collapsed": false
   },
   "outputs": [
    {
     "name": "stdout",
     "output_type": "stream",
     "text": [
      "1\n",
      "2\n",
      "3\n"
     ]
    }
   ],
   "source": [
    "for i in {1,2,3}:\n",
    "    print(i)"
   ]
  },
  {
   "cell_type": "code",
   "execution_count": 27,
   "metadata": {
    "collapsed": false
   },
   "outputs": [
    {
     "name": "stdout",
     "output_type": "stream",
     "text": [
      "1\n",
      "2\n",
      "3\n",
      "4\n",
      "5\n"
     ]
    }
   ],
   "source": [
    "i = 0 \n",
    "while i<5:\n",
    "    i = i+1\n",
    "    print(i)"
   ]
  },
  {
   "cell_type": "markdown",
   "metadata": {},
   "source": [
    "You can run python code that you saved on disk as a file. For instance, in this folder we have a text file called manysring.py .  The code looks like this\n",
    "```\n",
    "s = 'x'\n",
    "while len(s)<10:\n",
    "    print(s)\n",
    "    s = s+'x'\n",
    "```\n",
    "\n",
    "To run it, use the magic command called **%run**\n"
   ]
  },
  {
   "cell_type": "code",
   "execution_count": 34,
   "metadata": {
    "collapsed": false
   },
   "outputs": [
    {
     "name": "stdout",
     "output_type": "stream",
     "text": [
      "x\n",
      "xx\n",
      "xxx\n",
      "xxxx\n",
      "xxxxx\n",
      "xxxxxx\n",
      "xxxxxxx\n",
      "xxxxxxxx\n",
      "xxxxxxxxx\n"
     ]
    }
   ],
   "source": [
    "%run manystring\n"
   ]
  },
  {
   "cell_type": "markdown",
   "metadata": {},
   "source": [
    "If you want to do something more complicated, you will have to load in various packages and functions within them.\n",
    "\n",
    "For instance, to compute a sine function, you need to use Numerical Python, also known as Numpy.\n"
   ]
  },
  {
   "cell_type": "code",
   "execution_count": 36,
   "metadata": {
    "collapsed": false
   },
   "outputs": [
    {
     "data": {
      "text/plain": [
       "0.099833416646828155"
      ]
     },
     "execution_count": 36,
     "metadata": {},
     "output_type": "execute_result"
    }
   ],
   "source": [
    "from numpy import sin\n",
    "sin(.1)"
   ]
  },
  {
   "cell_type": "markdown",
   "metadata": {},
   "source": [
    "You will find it to import everything in numpy, then you have access to lots of useful functions, arrays, etc.\n"
   ]
  },
  {
   "cell_type": "raw",
   "metadata": {},
   "source": []
  },
  {
   "cell_type": "code",
   "execution_count": 38,
   "metadata": {
    "collapsed": false
   },
   "outputs": [
    {
     "data": {
      "text/plain": [
       "[0.099833416646828155,\n",
       " 0.99500416527802571,\n",
       " 0.10033467208545055,\n",
       " 0.1001674211615598,\n",
       " 1.4706289056333368,\n",
       " 0.099668652491162038]"
      ]
     },
     "execution_count": 38,
     "metadata": {},
     "output_type": "execute_result"
    }
   ],
   "source": [
    "from numpy import *\n",
    "[sin(.1),cos(.1),tan(.1),arcsin(.1),arccos(.1),arctan(.1)]"
   ]
  },
  {
   "cell_type": "markdown",
   "metadata": {},
   "source": [
    "## Namespaces\n",
    "\n",
    "Actually, for big projects, you should not use the import-star command, as the many function names may clash with other function definitions in your code, or other packages.\n",
    "\n",
    "It is considered safer to import the functions with the name of the package attached to them, or an appropriate abbreviation. Like this:"
   ]
  },
  {
   "cell_type": "code",
   "execution_count": 41,
   "metadata": {
    "collapsed": false
   },
   "outputs": [
    {
     "data": {
      "text/plain": [
       "[0.099833416646828155,\n",
       " 0.99500416527802571,\n",
       " 0.10033467208545055,\n",
       " 0.1001674211615598,\n",
       " 1.4706289056333368,\n",
       " 0.099668652491162038]"
      ]
     },
     "execution_count": 41,
     "metadata": {},
     "output_type": "execute_result"
    }
   ],
   "source": [
    "import numpy as np\n",
    "[np.sin(.1),np.cos(.1),np.tan(.1),np.arcsin(.1),np.arccos(.1),np.arctan(.1)]"
   ]
  },
  {
   "cell_type": "markdown",
   "metadata": {},
   "source": [
    "### Wrap up.\n",
    "\n",
    "At this point, you now know how to access Python through the Jupyter notebook. To do some serious coding, you need to learn more Python. This workshop is not specifically about Python, so we will stop here.\n",
    "\n"
   ]
  },
  {
   "cell_type": "markdown",
   "metadata": {},
   "source": [
    "### Other things to explore in the Jupyter Notebook.\n",
    "\n",
    "Check these out:\n",
    "- File menu, for saving and downloading copies of your notebook.\n",
    "- Edit menu allows you to cut, copy, paste entires cells and groups of cells.\n",
    "- View menu, to decrease the clutter on your screen.\n",
    "- Insert menu, to add cells to a notebook where you need them.\n",
    "- Cell menu, lets you run a bunch of cells at once.\n",
    "- Kernel menu, to restart when necessary, or even change programming languages.\n",
    "- Help menu, yay!\n",
    "\n",
    "You can also use the notebook as a Beamer or Powerpoint replacement. \n",
    "\n"
   ]
  },
  {
   "cell_type": "code",
   "execution_count": null,
   "metadata": {
    "collapsed": true
   },
   "outputs": [],
   "source": []
  }
 ],
 "metadata": {
  "kernelspec": {
   "display_name": "Python 3",
   "language": "python",
   "name": "python3"
  },
  "language_info": {
   "codemirror_mode": {
    "name": "ipython",
    "version": 3
   },
   "file_extension": ".py",
   "mimetype": "text/x-python",
   "name": "python",
   "nbconvert_exporter": "python",
   "pygments_lexer": "ipython3",
   "version": "3.6.0"
  }
 },
 "nbformat": 4,
 "nbformat_minor": 2
}
