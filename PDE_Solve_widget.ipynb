{
 "cells": [
  {
   "cell_type": "markdown",
   "metadata": {},
   "source": [
    "# WaveSolver - slider\n",
    "M. Lamoureux May 31, 2016. Pacific Insitute for the Mathematical Sciences\n",
    "\n",
    "Updated June 2017, to remove all reference to Bokeh, cuz it doesn't work now. (deprecated = broken)\n",
    "\n",
    "(Bokeh = Brokehn)\n",
    "\n",
    "This code does some numerical simulation of wave propagation in 1D, suitable for demoing in a class. \n",
    "\n",
    "This is a rewrite of some of my old Julia code, translated to run in Python. My belief is that Python is a more mature system and I will likely be more productive by sticking to Python instead of Julia. Let's see if this is true.\n",
    "\n",
    "The code is based on formulas from the textbook Linear Partial Differential Equations for Scientists and Engineers, by Myint-U and Debnath. It's a good book -- you should buy it. Some extracts are also available online. \n",
    "\n",
    "In this Jupyter notebook, animation has been added, using GUI sliders to advance the waveform in time.\n",
    "\n",
    "\n",
    "This was also written as a test of how far we can push Bokeh and the Jupyter Hub in making some calculations and graphics. There is some dangerous code at the bottom, that can bring down our Jupyter Hub, probably because it eats up too much memory. Interesting for debugging purposes, but you have been warned.\n",
    "\n",
    "\n",
    "\n"
   ]
  },
  {
   "cell_type": "markdown",
   "metadata": {},
   "source": [
    "## Introduction to the 1D wave equation.\n",
    "\n",
    "The basic idea is to represent the vibrations of a (horizonal) string under tension by a function $u(x,t)$ where $x$ is the horizontal displacement along the string, $t$ is the time parameter, and $y=u(x,t)$ indicates the (vertical) displacement of the string at point $x$ along the string, at time $t$ \n",
    "\n",
    "A typical wave would look something like\n",
    "$$u(x,t) = \\sin(x-ct)$$\n",
    "which represents a sinusoidal wave moving to the right at velocity $c$.\n",
    "\n",
    "From Newon's law of motion (mass times acceleration equals force), we can derive the wave equation for the string in the form \n",
    "$$ \\rho \\cdot u_{tt} = k \\cdot u_{xx}$$\n",
    "where $\\rho$ is a mass density, $u_{tt}$ is an acceleration (the second derivative w.r.t. time), $k$ is the modulus of elasticity and $u_{xx}$ is a measure of curvature (the second derivative w.r.t. $x$), causing the bending force. \n",
    "\n",
    "Including boundary and initial conditions, while setting the parameter $c^2 = k/\\rho$, we obtain the usual 1D wave equation on an interval as this:\n",
    "\n",
    "\n",
    "$$u_{tt} = c^2 u_{xx} \\mbox{ on interval } [x_0,x_1]$$\n",
    "subject to boundary conditions\n",
    "$$u(x_0,t) = u(x_1, t) = 0 \\mbox{ for all $t$. }$$\n",
    "and initial conditions\n",
    "$$u(x,0) = u_0(x), \\quad u_t(x,t) = u_1(x) \\mbox{ on interval } [x_0,x_1].$$\n",
    "\n",
    "\n",
    "Let's write some PDE solvers for this 1D wave equation.\n",
    "\n",
    "Start with some simple solvers, then get more complex. \n",
    "\n",
    "The function to solve the PDE needs to know $c^2, u_0, u_1$, the sampling intervals $dx$ and $dt$, and the number of time steps to execute. Everything else can be inferred from those inputs. The output should be a 2D array, indexed in x and t steps. \n",
    "\n",
    "Maybe we could actually output the solution $u(x,t)$ as well as the vector of indices for $x$ and $t$."
   ]
  },
  {
   "cell_type": "markdown",
   "metadata": {},
   "source": [
    "## Software tools\n",
    "We import some tools for numerical work (NumPy) and plotting (Matplotlib), using Matplotlib because Boken seems to be broken. At least, it broke my code with deprecations."
   ]
  },
  {
   "cell_type": "code",
   "execution_count": 1,
   "metadata": {
    "collapsed": true
   },
   "outputs": [],
   "source": [
    "%matplotlib inline\n",
    "import numpy as np\n",
    "from matplotlib.pyplot import *\n"
   ]
  },
  {
   "cell_type": "markdown",
   "metadata": {},
   "source": [
    "We also include some code from SciPy for numerical calculations"
   ]
  },
  {
   "cell_type": "code",
   "execution_count": 2,
   "metadata": {
    "collapsed": true
   },
   "outputs": [],
   "source": [
    "from scipy.linalg import solve_toeplitz  # a matrix equation solver\n",
    "from scipy.integrate import cumtrapz # a numerical integrator, using trapezoid rule\n"
   ]
  },
  {
   "cell_type": "markdown",
   "metadata": {},
   "source": [
    "And we include some code to create the graphical user interface -- namely, sliders. You can read about them here:\n",
    "http://bokeh.pydata.org/en/0.10.0/_images/notebook_interactors.png"
   ]
  },
  {
   "cell_type": "code",
   "execution_count": 3,
   "metadata": {
    "collapsed": false
   },
   "outputs": [],
   "source": [
    "from ipywidgets import interact"
   ]
  },
  {
   "cell_type": "markdown",
   "metadata": {},
   "source": [
    "## Explicit method of solution in finite differences\n",
    "\n",
    "The finite difference method is probably the most common numerical method for solving PDEs. The derivatives are approximated by Newton difference ratios, and you step through in time to progress the solution from $t=0$ to some ending time.\n",
    "\n",
    "The following defines a function that solves the wave equation, using an explicit finite difference method. We follow the notes in the referenced book by Myint-U and Debnath. \n",
    "\n",
    "The differencing in spatial variable $x$ is done by a convolution, as this will be fast. \n",
    "\n",
    "We print out the value of the CFL constant as a sanity check. The method is stable and convergent provided the CFL value is less than one. (This means $dt$ needs to be small enough.) See the book for details. \n",
    "\n",
    "The input parameters are velocity squared $c2$, spatial step size $dx$, temporal step size $dt$, number of time steps $t$_$len$, initial position $u0$ and initial velocity $u1$. $u0$ and $u1$ are arrays of some length $N$, which the code will use to deduce everything it needs to know.\n",
    "\n",
    "I tend to think of these as dimensionless variables, but you can use real physical values if you like, so long as you are consistent. For instance $dx$ in meters, $dt$ in seconds, and $c2$ in (meters/second) squared. "
   ]
  },
  {
   "cell_type": "code",
   "execution_count": 4,
   "metadata": {
    "collapsed": false
   },
   "outputs": [],
   "source": [
    "# Based on Section 14.4 in Myint-U and Debnath's book\n",
    "def w_solve1(c2,dx,dt,t_len,u0,u1):\n",
    "    x_len = np.size(u0)  # the length of u0 implicitly defines the num of points in x direction\n",
    "    u = np.zeros((x_len,t_len),order='F') # output array initialized to zero \n",
    "    e2 = c2*dt*dt/(dx*dx)  # Courant parameter squared (test for convergence!)\n",
    "    print(\"CFL value is \",np.sqrt(e2))\n",
    "    kern = np.array([e2, 2*(1-e2), e2]) # the convolution kernel we need for laplacian solver\n",
    "    u[:,0] = u0            # t=0 initial condition\n",
    "    u[:,1] = np.convolve(u0,kern/2)[1:x_len+1] + dt*u1 # t=0 derivative condition, eqn 14.4.6\n",
    "    for j in range(2,t_len):\n",
    "        u[:,j] = np.convolve(u[:,j-1],kern)[1:x_len+1] - u[:,j-2] # eqn 14.4.3\n",
    "    # let's produce the x and t vectors, in case we need them\n",
    "    x = np.linspace(0,dx*x_len,x_len,endpoint=False)\n",
    "    t = np.linspace(0,dt*t_len,t_len,endpoint=False)\n",
    "    return u,x,t"
   ]
  },
  {
   "cell_type": "markdown",
   "metadata": {},
   "source": [
    "Let's try a real wave equation solution. \n",
    "    \n",
    "We start with a simple triangle waveform."
   ]
  },
  {
   "cell_type": "code",
   "execution_count": 5,
   "metadata": {
    "collapsed": false
   },
   "outputs": [],
   "source": [
    "x_len = 1000\n",
    "t_len = 1000\n",
    "dx = 1./x_len\n",
    "dt = 1./t_len\n",
    "x = np.linspace(0,1,x_len)\n",
    "t = np.linspace(0,1,t_len)\n",
    "triangle = np.maximum(0.,.1-np.absolute(x-.4))"
   ]
  },
  {
   "cell_type": "markdown",
   "metadata": {},
   "source": [
    "Now we call up our wave equation solver, using the parameters above"
   ]
  },
  {
   "cell_type": "code",
   "execution_count": 6,
   "metadata": {
    "collapsed": false
   },
   "outputs": [
    {
     "name": "stdout",
     "output_type": "stream",
     "text": [
      "CFL value is  0.707106781187\n"
     ]
    }
   ],
   "source": [
    "# Here we solve the wave equation, with initial position $u(x,0)$ set to the triangle waveform\n",
    "(u,x,t)=w_solve1(.5,dx,dt,t_len,triangle,0*triangle)"
   ]
  },
  {
   "cell_type": "code",
   "execution_count": null,
   "metadata": {
    "collapsed": true
   },
   "outputs": [],
   "source": []
  },
  {
   "cell_type": "markdown",
   "metadata": {},
   "source": [
    "We can plot the inital waveform, just to see what it looks like. "
   ]
  },
  {
   "cell_type": "code",
   "execution_count": 7,
   "metadata": {
    "collapsed": false
   },
   "outputs": [
    {
     "data": {
      "text/plain": [
       "[<matplotlib.lines.Line2D at 0x10ebf8358>]"
      ]
     },
     "execution_count": 7,
     "metadata": {},
     "output_type": "execute_result"
    },
    {
     "data": {
      "image/png": "[encoded data removed]",
      "text/plain": [
       "<matplotlib.figure.Figure at 0x10ebf8748>"
      ]
     },
     "metadata": {},
     "output_type": "display_data"
    }
   ],
   "source": [
    "plot(x,u[:,0])"
   ]
  },
  {
   "cell_type": "code",
   "execution_count": 8,
   "metadata": {
    "collapsed": false
   },
   "outputs": [],
   "source": [
    "def update(k=0):\n",
    "    plot(x,u[:,k])\n",
    "    show()"
   ]
  },
  {
   "cell_type": "markdown",
   "metadata": {},
   "source": [
    "And the next cell sets up a slider which controls the above graphs (it moves time along)"
   ]
  },
  {
   "cell_type": "code",
   "execution_count": 9,
   "metadata": {
    "collapsed": false
   },
   "outputs": [
    {
     "data": {
      "image/png": "[encoded data removed]",
      "text/plain": [
       "<matplotlib.figure.Figure at 0x10f69ef60>"
      ]
     },
     "metadata": {},
     "output_type": "display_data"
    }
   ],
   "source": [
    "# This runs an animation, controlled by a slider which advances time\n",
    "interact(update,k=(0,t_len-1))"
   ]
  },
  {
   "cell_type": "markdown",
   "metadata": {},
   "source": [
    "### Derivative initial condition test"
   ]
  },
  {
   "cell_type": "code",
   "execution_count": 10,
   "metadata": {
    "collapsed": false
   },
   "outputs": [
    {
     "name": "stdout",
     "output_type": "stream",
     "text": [
      "CFL value is  0.707106781187\n"
     ]
    }
   ],
   "source": [
    "# We try again, but this time with the $u_t$ initial condition equal to the triangle impulse\n",
    "(u,x,t)=w_solve1(.5,dx,dt,3*t_len,0*triangle,1*triangle)"
   ]
  },
  {
   "cell_type": "markdown",
   "metadata": {
    "collapsed": false
   },
   "source": [
    "We can use the same update function, since nothing has changed. "
   ]
  },
  {
   "cell_type": "code",
   "execution_count": 11,
   "metadata": {
    "collapsed": false
   },
   "outputs": [
    {
     "data": {
      "image/png": "[encoded data removed]",
      "text/plain": [
       "<matplotlib.figure.Figure at 0x10f9f0710>"
      ]
     },
     "metadata": {},
     "output_type": "display_data"
    }
   ],
   "source": [
    "interact(update,k=(0,3*t_len-1))"
   ]
  },
  {
   "cell_type": "markdown",
   "metadata": {},
   "source": [
    "## Implicit method\n",
    "\n",
    "Here we try an implicit method for solving the wave equation. Again from Myint-U and Debnath's book, in Section 14.5, part (B) on Hyperbolic equations. \n",
    "\n",
    "We need to use scipy libraries as we have to solve a system of linear equation. In fact the system is tridiagonal and Toepliz, so this should be fast. I see how to use Toepliz in scipy, but I don't know how to tell it that the system is only tridiagonal. It should be possible to speed this up. "
   ]
  },
  {
   "cell_type": "code",
   "execution_count": 12,
   "metadata": {
    "collapsed": false
   },
   "outputs": [],
   "source": [
    "# Based on Section 14.5 (B) in Myint-U and Debnath's book\n",
    "def w_solve2(c2,dx,dt,t_len,u0,u1):\n",
    "    x_len = np.size(u0)  # the length of u0 implicitly defines the num of points in x direction\n",
    "    u = np.zeros((x_len,t_len),order='F') # output array initialized to zero \n",
    "    e2 = c2*dt*dt/(dx*dx)  # Courant parameter squared (test for convergence!)\n",
    "    print(\"CFL value is \",np.sqrt(e2))\n",
    "    kern = np.array([e2, 2*(1-e2), e2]) # the convolution kernel we need for laplacian solver\n",
    "    u[:,0] = u0            # t=0 initial condition\n",
    "    u[:,1] = np.convolve(u0,kern/2)[1:x_len+1] + dt*u1 # t=0 derivative condition, eqn 14.4.6\n",
    "    # Note the above is a cheat, we are using the explicit method to find u[:,1], Should do this implicitly\n",
    "    kern2 = np.array([e2, -2*(1+e2), e2]) # the convolution kernel we need for implicit solver. It is different.\n",
    "    toepk = np.zeros(x_len)  # this will hold the entries for the tridiagonal Toeplitz matrix\n",
    "    toepk[0] = 2*(1+e2);\n",
    "    toepk[1] = -e2\n",
    "    for j in range(2,t_len):\n",
    "        rhs = np.convolve(u[:,j-2],kern2)[1:x_len+1] + 4*u[:,j-1] # eqn 14.5.17\n",
    "        u[:,j] = solve_toeplitz(toepk, rhs) # here is a linear system solver (hence an implicit method)\n",
    "    # let's produce the x and t vectors, in case we need them\n",
    "    x = np.linspace(0,dx*x_len,x_len,endpoint=False)\n",
    "    t = np.linspace(0,dt*t_len,t_len,endpoint=False)\n",
    "    return u,x,t"
   ]
  },
  {
   "cell_type": "code",
   "execution_count": 13,
   "metadata": {
    "collapsed": false
   },
   "outputs": [
    {
     "name": "stdout",
     "output_type": "stream",
     "text": [
      "CFL value is  0.707106781187\n"
     ]
    }
   ],
   "source": [
    "(u,x,t)=w_solve2(.5,dx,dt,t_len,1*triangle,0*triangle)"
   ]
  },
  {
   "cell_type": "code",
   "execution_count": 14,
   "metadata": {
    "collapsed": false
   },
   "outputs": [
    {
     "data": {
      "image/png": "[encoded data removed]",
      "text/plain": [
       "<matplotlib.figure.Figure at 0x10f61b0b8>"
      ]
     },
     "metadata": {},
     "output_type": "display_data"
    }
   ],
   "source": [
    "interact(update,k=(0,3*t_len-1))"
   ]
  },
  {
   "cell_type": "markdown",
   "metadata": {},
   "source": [
    "### Derivative initial condition"
   ]
  },
  {
   "cell_type": "code",
   "execution_count": 15,
   "metadata": {
    "collapsed": false
   },
   "outputs": [
    {
     "name": "stdout",
     "output_type": "stream",
     "text": [
      "CFL value is  0.707106781187\n"
     ]
    }
   ],
   "source": [
    "(u,x,t)=w_solve2(.5,dx,dt,3*t_len,0*triangle,1*triangle)"
   ]
  },
  {
   "cell_type": "code",
   "execution_count": 16,
   "metadata": {
    "collapsed": false
   },
   "outputs": [
    {
     "data": {
      "image/png": "[encoded data removed]",
      "text/plain": [
       "<matplotlib.figure.Figure at 0x10fce8d30>"
      ]
     },
     "metadata": {},
     "output_type": "display_data"
    }
   ],
   "source": [
    "interact(update,k=(0,3*t_len-1))"
   ]
  },
  {
   "cell_type": "markdown",
   "metadata": {},
   "source": [
    "## D'Alembert's solution\n",
    "\n",
    "Since the velocity $c$ is constant in these examples, we can get the exact solution via D'Alembert. The general solution will be of the form \n",
    "$$u(x,t) = \\phi(x+ct) + \\psi(x-ct). $$\n",
    "Initial conditions tell use that\n",
    "$$u(x,0) = \\phi(x) + \\psi(x) = f(x), $$ and\n",
    "$$u_t(x,0) = c\\phi'(x) - c\\psi'(x) = g(x). $$\n",
    "With $G(x)$ the antiderivative of $g(x)$ with appropriate zero at zero, we get a 2x2 system\n",
    "$$\\phi(x) + \\psi(x) = f(x), \\\\ c(\\phi(x) - \\psi(x)) = G(x),$$\n",
    "which we solve as\n",
    "$$\\phi(x) = \\frac{1}{2}\\left( f(x) + \\frac{1}{c} G(x) \\right), \\\\\n",
    "  \\psi(x) = \\frac{1}{2}\\left( f(x) - \\frac{1}{c} G(x) \\right).$$\n",
    "\n",
    "Now $f(x)$ is given as the argument $u0$ in the code. $G(x)$ can be computed using scipy. The arguments $x+ct$ and $x-ct$ must be converted to integer indices. They have to wrap around. And with the zero boundary condition, we need to wrap around with a negative reflection. \n",
    "\n",
    "There is the messy question as to whether we require $u(0,t)$ to actually equal zero, or do we require it to be zero one index \"to the left\" of x=0. Let's not think too much about that just yet."
   ]
  },
  {
   "cell_type": "code",
   "execution_count": 17,
   "metadata": {
    "collapsed": false
   },
   "outputs": [],
   "source": [
    "# Based on D'Alembert's solution, as described above\n",
    "def w_solve3(c2,dx,dt,t_len,u0,u1):\n",
    "    x_len = np.size(u0)  # the length of u0 implicitly defines the num of points in x direction\n",
    "    u = np.zeros((x_len,t_len),order='F') # output array initialized to zero \n",
    "    c = np.sqrt(c2)  # the actual velocity parameter is needed\n",
    "    f = u0  # use notation from above notes\n",
    "    G = cumtrapz(u1,dx=dx,initial=0) # the antiderivative, using cumulative trapezoidal rule\n",
    "    f2 = np.append(f,-f[::-1]) # odd symmetry\n",
    "    G2 = np.append(G,G[::-1]) # even symmetry\n",
    "    phi2 = (f2 + G2/c)/2\n",
    "    psi2 = (f2 - G2/c)/2\n",
    "    x = np.linspace(0,dx*x_len,x_len,endpoint=False)\n",
    "    t = np.linspace(0,dt*t_len,t_len,endpoint=False)\n",
    "    # in the loop, we convert x+ct to index's into vectors phi2, psi2, modulo the vector length\n",
    "    for j in range(t_len):\n",
    "        ii1 = np.mod( np.round((x+c*t[j])/dx), 2*x_len)\n",
    "        ii2 = np.mod( np.round((x-c*t[j])/dx), 2*x_len)\n",
    "        u[:,j] = phi2[ii1.astype(int)] + psi2[ii2.astype(int)]\n",
    "    return u,x,t"
   ]
  },
  {
   "cell_type": "code",
   "execution_count": 18,
   "metadata": {
    "collapsed": false
   },
   "outputs": [],
   "source": [
    "(u,x,t)=w_solve3(.5,dx,dt,t_len,1*triangle,0*triangle)"
   ]
  },
  {
   "cell_type": "code",
   "execution_count": 19,
   "metadata": {
    "collapsed": false
   },
   "outputs": [
    {
     "data": {
      "image/png": "[encoded data removed]",
      "text/plain": [
       "<matplotlib.figure.Figure at 0x10f3fb4e0>"
      ]
     },
     "metadata": {},
     "output_type": "display_data"
    }
   ],
   "source": [
    "interact(update,k=(0,t_len-1))\n"
   ]
  },
  {
   "cell_type": "markdown",
   "metadata": {},
   "source": [
    "### Derivative initial condition"
   ]
  },
  {
   "cell_type": "code",
   "execution_count": 20,
   "metadata": {
    "collapsed": true
   },
   "outputs": [],
   "source": [
    "(u,x,t)=w_solve3(.5,dx,dt,3*t_len,0*triangle,1*triangle)"
   ]
  },
  {
   "cell_type": "code",
   "execution_count": 21,
   "metadata": {
    "collapsed": false
   },
   "outputs": [
    {
     "data": {
      "image/png": "[encoded data removed]",
      "text/plain": [
       "<matplotlib.figure.Figure at 0x10fc317b8>"
      ]
     },
     "metadata": {},
     "output_type": "display_data"
    }
   ],
   "source": [
    "interact(update,k=(0,3*t_len-1))"
   ]
  },
  {
   "cell_type": "markdown",
   "metadata": {},
   "source": [
    "# Comparing solutions\n",
    "\n",
    "In principle, we want these different solution methods to be directly comparable.\n",
    "\n",
    "So let's try this out, by computing the difference of two solution. \n",
    "\n",
    "Here we compare the explicit f.d. method with d'Alambert's method.\n"
   ]
  },
  {
   "cell_type": "code",
   "execution_count": 22,
   "metadata": {
    "collapsed": false
   },
   "outputs": [
    {
     "name": "stdout",
     "output_type": "stream",
     "text": [
      "CFL value is  0.707106781187\n"
     ]
    }
   ],
   "source": [
    "(u_exp,x,t)=w_solve1(.5,dx,dt,t_len,1*triangle,0*triangle)\n",
    "(u_dal,x,t)=w_solve3(.5,dx,dt,t_len,1*triangle,0*triangle)"
   ]
  },
  {
   "cell_type": "code",
   "execution_count": 23,
   "metadata": {
    "collapsed": false
   },
   "outputs": [],
   "source": [
    "def update2(k=0):\n",
    "    plot(x,u_dal[:,k]-u_exp[:,k])\n",
    "    show()    "
   ]
  },
  {
   "cell_type": "code",
   "execution_count": 25,
   "metadata": {
    "collapsed": false
   },
   "outputs": [
    {
     "data": {
      "image/png": "[encoded data removed]",
      "text/plain": [
       "<matplotlib.figure.Figure at 0x10f9eec50>"
      ]
     },
     "metadata": {},
     "output_type": "display_data"
    }
   ],
   "source": [
    "interact(update2,k=(0,t_len-1))"
   ]
  },
  {
   "cell_type": "markdown",
   "metadata": {},
   "source": [
    "## A moving wavefront\n",
    "\n",
    "Let's try an actual wave. We want something like\n",
    "$$u(x,t) = \\exp(-(x -x_a-ct)^2/w^2), $$\n",
    "where $x_a$ is the center of the Gaussian at $t=0$, $w$ is the width of the Gaussian, $c$ is the velocity of the wave.\n",
    "\n",
    "This gives\n",
    "$$u_0(x) = \\exp(-(x -x_a)^2/w^2) \\\\\n",
    "  u_1(x) = \\frac{2c(x-x_a)}{w^2}\\exp(-(x -x_a)^2/w^2) = \\frac{2c(x-x_a)}{w^2}u_0(x).$$\n"
   ]
  },
  {
   "cell_type": "code",
   "execution_count": 26,
   "metadata": {
    "collapsed": false
   },
   "outputs": [],
   "source": [
    "c = .707  # velocity\n",
    "x_len = 1000\n",
    "t_len = 1000\n",
    "dx = 1./x_len\n",
    "dt = 1./t_len\n",
    "x = np.linspace(0,1,x_len)\n",
    "t = np.linspace(0,1,t_len)\n",
    "u0 = np.exp(-(x-.5)*(x-.5)/.01)\n",
    "u1 = 2*c*u0*(x-.5)/.01"
   ]
  },
  {
   "cell_type": "code",
   "execution_count": 27,
   "metadata": {
    "collapsed": true
   },
   "outputs": [],
   "source": [
    "(u,x,t)=w_solve3(c*c,dx,dt,t_len,u0,u1)  # notice we input the velocity squared!"
   ]
  },
  {
   "cell_type": "code",
   "execution_count": 28,
   "metadata": {
    "collapsed": false
   },
   "outputs": [
    {
     "data": {
      "image/png": "[encoded data removed]",
      "text/plain": [
       "<matplotlib.figure.Figure at 0x10fb4e9e8>"
      ]
     },
     "metadata": {},
     "output_type": "display_data"
    }
   ],
   "source": [
    "interact(update,k=(0,t_len-1))"
   ]
  },
  {
   "cell_type": "code",
   "execution_count": null,
   "metadata": {
    "collapsed": true
   },
   "outputs": [],
   "source": []
  }
 ],
 "metadata": {
  "kernelspec": {
   "display_name": "Python 3",
   "language": "python",
   "name": "python3"
  },
  "language_info": {
   "codemirror_mode": {
    "name": "ipython",
    "version": 3
   },
   "file_extension": ".py",
   "mimetype": "text/x-python",
   "name": "python",
   "nbconvert_exporter": "python",
   "pygments_lexer": "ipython3",
   "version": "3.6.0"
  },
  "widgets": {
   "state": {
    "1be3f960fb314904be650bec3ea0a572": {
     "views": [
      {
       "cell_index": 27
      }
     ]
    },
    "63f080f49271472a9dff82e910687305": {
     "views": [
      {
       "cell_index": 22
      }
     ]
    },
    "82e18cbd789b4fa1975144a7a64a0f6e": {
     "views": [
      {
       "cell_index": 19
      }
     ]
    },
    "8f7830d52c554a5db4379dcbe1780f08": {
     "views": [
      {
       "cell_index": 37
      }
     ]
    },
    "b7ba7338bab34e9f850a69041105d4e7": {
     "views": [
      {
       "cell_index": 30
      }
     ]
    },
    "bc21fe03d0134ca2a487ec4341983614": {
     "views": [
      {
       "cell_index": 34
      }
     ]
    },
    "bf715980f40548d1932c55e01c54f743": {
     "views": [
      {
       "cell_index": 45
      }
     ]
    },
    "e732a82fa8e14fa2b404867f278e3d34": {
     "views": [
      {
       "cell_index": 41
      }
     ]
    }
   },
   "version": "1.2.0"
  }
 },
 "nbformat": 4,
 "nbformat_minor": 0
}
