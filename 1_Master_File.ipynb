{
 "cells": [
  {
   "cell_type": "markdown",
   "metadata": {},
   "source": [
    "## Master File\n",
    "\n",
    "This workshops is organized as a series of notebooks and webpages. This Main File groups them into a collection of clickable links.\n",
    "\n",
    "Here are the sites for connecting to the service, for workshop participants (login required)\n",
    "- [usask.syzygy.ca](https://usask.syzygy.ca/) Syzygy for University of Saskatchewan researchers\n",
    "- [cybera.syzygy.ca](https://cybera.syzygy.ca/) Syzygy on Cybera\n",
    "- [pims.syzygy.ca](https://pims.syzygy.ca/) Syzygy on Compute Canada\n",
    "- [ucalgary.syzygy.ca](https://ucalgary.syzygy.ca/) Syzygy for University of Calgary researchers (i.e. workshop leader)\n",
    "- [ubc.syzygy.ca](https://ubc.syzygy.ca/) For Michael's reference (remove at some point)\n",
    "\n",
    "\n",
    "Here are some useful references for workshop participants. \n",
    "- [intro.syzygy.ca](http://intro.syzygy.ca/) An e-book on using syzygy.ca \n",
    "- [jupyter.org](http://jupyter.org/)  The Jupyter project in detail\n",
    "- [www.python.org](https://www.python.org) The Python language in detail\n",
    "- [julialang.org](https://julialang.org/) The Julia language in detail\n",
    "- [www.r-project.org](https://www.r-project.org/) The R language in detail\n",
    "- [rogerdudler.github.io/git-guide/](http://rogerdudler.github.io/git-guide/) Some notes on git\n",
    "\n",
    "\n",
    "The modules for this workshop:\n",
    "- [Logging into Syzygy.ca - at USask](https://usask.syzygy.ca/)\n",
    "- [Logging into Syzygy.ca - non-USask](https://pims.syzygy.ca/)\n",
    "- [Jupyter Workshop - intro](Jupyter_Workshop.ipynb) \n",
    "- [Using Python](Using_Python.ipynb)\n",
    "- [Using Julia](Using_Julia.ipynb)\n",
    "- [Using R](Using_R.ipynb)\n",
    "- [2D plotting](2D_Plots.ipynb)\n",
    "- [2D animation](2D_Animation.ipynb)\n",
    "- [Widgets for interactive plotting](2D_Widgets.ipynb)\n",
    "- [Widgets and audio](Widget_audio.ipynb)\n",
    "- [Data analysis & the web](P_Data_analysis.ipynb)\n",
    "- [Stochastics](Stochtest.ipynb)\n",
    "- [3D plotting](3D_Plots.ipynb)\n",
    "- [3D animation](3D_Animation.ipynb)\n",
    "- [3D widgets](3D_Widgets.ipynb)\n",
    "- [Exploring ODEs](ODEtests.ipynb)\n",
    "- [Fun stuff](P_d3-play.ipynb)\n",
    "\n"
   ]
  },
  {
   "cell_type": "code",
   "execution_count": null,
   "metadata": {
    "collapsed": true
   },
   "outputs": [],
   "source": []
  }
 ],
 "metadata": {
  "kernelspec": {
   "display_name": "Python 3",
   "language": "python",
   "name": "python3"
  },
  "language_info": {
   "codemirror_mode": {
    "name": "ipython",
    "version": 3
   },
   "file_extension": ".py",
   "mimetype": "text/x-python",
   "name": "python",
   "nbconvert_exporter": "python",
   "pygments_lexer": "ipython3",
   "version": "3.6.0"
  }
 },
 "nbformat": 4,
 "nbformat_minor": 2
}
